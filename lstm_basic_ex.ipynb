{
 "cells": [
  {
   "cell_type": "code",
   "execution_count": 1,
   "metadata": {},
   "outputs": [],
   "source": [
    "import numpy as np"
   ]
  },
  {
   "cell_type": "markdown",
   "metadata": {},
   "source": [
    "# Explanation\n",
    "\n",
    "(1)hidden_size: output dimension \n",
    "\n",
    "-> result of hidden_state: h_t.shape = (hidden_size, 1)\n",
    "\n",
    "(2)vstack: stack in row direction\n",
    "\n",
    " -> rsult of vstack: concat_vector.shape = (input_size + hidden_size , 1)\n",
    "\n",
    "* but it can only same size col.\n",
    "\n",
    "\n",
    "\n"
   ]
  },
  {
   "cell_type": "code",
   "execution_count": 2,
   "metadata": {},
   "outputs": [],
   "source": [
    "class activation_function:\n",
    "    def __init__(self):\n",
    "        pass\n",
    "\n",
    "    def sigmoid(self, x):\n",
    "        return 1 / (1 + np.exp(-x))\n",
    "    \n",
    "    def tanh(self, x):\n",
    "        return np.tanh(x)\n",
    "\n",
    "class LSTM(activation_function):\n",
    "    def __init__(self, hidden_size, concat_size):\n",
    "        # z  = alpha(w @ [h, x] + b) \n",
    "        # alpha = activation function\n",
    "        self.w_f = np.random.randn(hidden_size, concat_size)\n",
    "        self.b_f = np.zeros((hidden_size, 1))\n",
    "        self.w_o = np.random.randn(hidden_size, concat_size)\n",
    "        self.b_o = np.zeros((hidden_size, 1))\n",
    "        self.w_c = np.random.randn(hidden_size, concat_size)\n",
    "        self.b_c = np.zeros((hidden_size, 1))\n",
    "        self.w_i = np.random.randn(hidden_size, concat_size)\n",
    "        self.b_i = np.zeros((hidden_size, 1))\n",
    "    \n",
    "    def forget_gate(self, concat_vector):\n",
    "        value = (self.w_f @ concat_vector) + self.b_f\n",
    "        f_t = self.sigmoid(value)\n",
    "        return f_t\n",
    "    \n",
    "    def input_gate(self, concat_vector):\n",
    "        value = (self.w_i @ concat_vector) + self.b_i\n",
    "        i_t = self.sigmoid(value)\n",
    "        return i_t\n",
    "    \n",
    "    def candidate_memory(self, concat_vector):\n",
    "        value = (self.w_c @ concat_vector) + self.b_c\n",
    "        c_t_hat = np.tanh(value)\n",
    "        return c_t_hat\n",
    "    \n",
    "    def output_gate(self ,concat_vector):\n",
    "        value = (self.w_o @ concat_vector) + self.b_o\n",
    "        o_t = self.sigmoid(value)\n",
    "        return o_t\n",
    "\n",
    "    def cell_state_update(self, c_prev ,concat_vector):\n",
    "        c_t_hat = self.candidate_memory(concat_vector)\n",
    "        f_t = self.forget_gate(concat_vector)\n",
    "        i_t = self.input_gate(concat_vector)\n",
    "        c_t = (f_t * c_prev) + (i_t * c_t_hat)\n",
    "        return c_t\n",
    "    \n",
    "    #print summarized information\n",
    "    def hidden_state(self, c_t, concat_vector):\n",
    "        h_t = self.output_gate(concat_vector) * np.tanh(c_t)\n",
    "        return h_t\n",
    "    \n",
    "    def forward(self, h_prev, x_t , c_prev):\n",
    "        concat_vector = np.vstack((h_prev, x_t))\n",
    "        c_t = self.cell_state_update(c_prev, concat_vector)\n",
    "        h_t = self.hidden_state(c_t, concat_vector)\n",
    "        return h_t, c_t\n",
    "        "
   ]
  },
  {
   "cell_type": "markdown",
   "metadata": {},
   "source": [
    "# example_data_set\n",
    "\n",
    "(1)lstm only get 3_dimension data_set\n",
    "    \n",
    "    -> we need to data process\n",
    "\n",
    "(2) because data is just an array of numbers,\n",
    "\n",
    "* we need to create a rule to input into lstm.\n",
    "\n",
    "    def create_sequences divides an array of numbers into time_steps,\n",
    "\n",
    "    and creates multiple samples."
   ]
  },
  {
   "cell_type": "code",
   "execution_count": 3,
   "metadata": {},
   "outputs": [
    {
     "name": "stdout",
     "output_type": "stream",
     "text": [
      "(7, 3) (7,)\n",
      "(7, 3, 1)\n"
     ]
    }
   ],
   "source": [
    "train_set = [1, 2, 3, 4, 5, 6, 7, 8, 9, 10]\n",
    "test_set = [1, 2, 3, 4, 5, 6]\n",
    "train_set = np.array(train_set)\n",
    "test_set = np.array(test_set)\n",
    "\n",
    "def create_sequences(data, time_steps =3):\n",
    "    x, y = [], []\n",
    "    for i in range(len(data) - time_steps): #10 - 3 = 7\n",
    "        seq_x = data[i:i + time_steps]\n",
    "        #0~6, 1~7, 2~8, 3~9, 4~10 (sample)\n",
    "        seq_y = data[i + time_steps]\n",
    "        #7, 8, 9, 10 (correct label)\n",
    "        x.append(seq_x)\n",
    "        y.append(seq_y)\n",
    "    return np.array(x), np.array(y)\n",
    "\n",
    "#==================make matrix==================\n",
    "train_data_x , train_data_y = create_sequences(train_set)\n",
    "#==================check data shape=============\n",
    "print(train_data_x.shape, train_data_y.shape)\n",
    "\n",
    "#==================reshape 3_dimension==========\n",
    "train_data_x = train_data_x.reshape((train_data_x.shape[0], train_data_x.shape[1], 1))\n",
    "print(train_data_x.shape)"
   ]
  },
  {
   "cell_type": "markdown",
   "metadata": {},
   "source": [
    "# ex_1 basic lstm\n",
    "\n",
    "- this result is not accurate. \n",
    "\n",
    "    so we need backward definition."
   ]
  },
  {
   "cell_type": "code",
   "execution_count": 5,
   "metadata": {},
   "outputs": [
    {
     "name": "stdout",
     "output_type": "stream",
     "text": [
      "0.11757742987146913\n"
     ]
    }
   ],
   "source": [
    "input_size = 1\n",
    "hidden_size = 4\n",
    "lstm = LSTM(input_size, concat_size = input_size + hidden_size)\n",
    "\n",
    "h = np.zeros((hidden_size, 1))\n",
    "c = np.zeros((hidden_size, 1))\n",
    "\n",
    "last_seq = test_set[-3: ]\n",
    "for i in range(100):\n",
    "    for i in last_seq:\n",
    "        x_t = np.array([i])\n",
    "        h, c = lstm.forward(h, x_t, c)\n",
    "\n",
    "next_value = h.mean()\n",
    "print(next_value)\n",
    "\n"
   ]
  },
  {
   "cell_type": "markdown",
   "metadata": {},
   "source": []
  },
  {
   "cell_type": "code",
   "execution_count": null,
   "metadata": {},
   "outputs": [],
   "source": [
    "class Dense:\n",
    "    def __init__(self, input_size):\n",
    "        self.w = np.random.randn(1, input_size) * 0.01\n",
    "        self.b = np.zeros((1,1))\n",
    "        self.lr = 0.01\n",
    "    \n",
    "    def forward(self, h):\n",
    "        self.h = h\n",
    "        y_pred = self.w @ h + self.b\n",
    "        return y_pred\n",
    "    \n",
    "    def backward(self, dy):\n",
    "        self.dw = dy @ self.h.T\n",
    "        self.db = dy\n",
    "        self.dh = self.w.T @ dy\n",
    "        return self.dh\n",
    "    \n",
    "    def update(self):\n",
    "        self.w -= self.lr * self.dw\n",
    "        self.b -= self.lr * self.db\n",
    "\n",
    "class calculator:\n",
    "    def __init__(self):\n",
    "        pass\n",
    "    \n",
    "    def mse_loss(self, y_pred, y_true):\n",
    "        return np.mean((y_pred - y_true) ** 2)\n",
    "    \n",
    "    def mse_grad(self, y_pred, y_true):\n",
    "        return 2 * (y_pred - y_true)\n",
    "    \n",
    "    "
   ]
  }
 ],
 "metadata": {
  "kernelspec": {
   "display_name": "Python 3",
   "language": "python",
   "name": "python3"
  },
  "language_info": {
   "codemirror_mode": {
    "name": "ipython",
    "version": 3
   },
   "file_extension": ".py",
   "mimetype": "text/x-python",
   "name": "python",
   "nbconvert_exporter": "python",
   "pygments_lexer": "ipython3",
   "version": "3.13.2"
  }
 },
 "nbformat": 4,
 "nbformat_minor": 2
}
