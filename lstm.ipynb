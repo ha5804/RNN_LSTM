{
 "cells": [
  {
   "cell_type": "code",
   "execution_count": null,
   "metadata": {},
   "outputs": [],
   "source": [
    "from log_vec import *\n",
    "from mycode import *\n",
    "\n",
    "embedding = Embedding()\n",
    "model = MyModel()\n",
    "data = log_temp()"
   ]
  },
  {
   "cell_type": "code",
   "execution_count": null,
   "metadata": {},
   "outputs": [],
   "source": [
    "data.encode_event_ids()\n",
    "X_seq , y = data.make_seq_list()\n",
    "\n",
    "event_size = len(set(data.event_ids_encoded))\n",
    "embedding_dim = 16\n",
    "\n",
    "embedding = Embedding(event_size, embedding_dim)\n",
    "\n",
    "X_embed = np.array([embedding.forward(seq) for seq in X_seq])"
   ]
  },
  {
   "cell_type": "code",
   "execution_count": null,
   "metadata": {},
   "outputs": [],
   "source": [
    "input_size = 16\n",
    "hidden_size = 32\n",
    "concat_size = input_size + hidden_size\n",
    "\n",
    "w_f = np.random.randn(hidden_size, concat_size)\n",
    "b_f = np.zeros((hidden_size, 1))\n",
    "w_i = np.random.randn(hidden_size, concat_size)\n",
    "b_i = np.zeros((hidden_size, 1))\n",
    "w_c = np.random.randn(hidden_size, concat_size)\n",
    "b_c = np.zeros((hidden_size, 1))\n",
    "w_o = np.random.randn(hidden_size, concat_size)\n",
    "b_o = np.zeros((hidden_size, 1))\n",
    "\n",
    "\n",
    "model = MyModel(w_f, b_f, w_i, b_i, w_c, b_c, w_o, b_o)\n",
    "\n",
    "x_t = np.random.randn(input_size, 1)\n",
    "h_prev = np.zeros((hidden_size, 1))\n",
    "c_prev = np.zeros((hidden_size, 1))\n",
    "\n",
    "\n",
    "model.get_concat_vector(h_prev, x_t)\n",
    "h_t, c_t = model.forward(h_prev, x_t , c_prev)\n"
   ]
  }
 ],
 "metadata": {
  "kernelspec": {
   "display_name": "Python 3",
   "language": "python",
   "name": "python3"
  },
  "language_info": {
   "name": "python",
   "version": "3.13.2"
  }
 },
 "nbformat": 4,
 "nbformat_minor": 2
}
