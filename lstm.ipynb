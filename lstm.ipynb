{
 "cells": [
  {
   "cell_type": "markdown",
   "metadata": {},
   "source": [
    "## **import**"
   ]
  },
  {
   "cell_type": "code",
   "execution_count": 1,
   "metadata": {},
   "outputs": [],
   "source": [
    "from log_vec import *\n",
    "from mycode import *"
   ]
  },
  {
   "cell_type": "markdown",
   "metadata": {},
   "source": [
    "## Data preprocessing"
   ]
  },
  {
   "cell_type": "code",
   "execution_count": 2,
   "metadata": {},
   "outputs": [
    {
     "name": "stdout",
     "output_type": "stream",
     "text": [
      "(2000,)\n",
      "(2000,)\n",
      "(1795, 10) (1795,)\n",
      "17\n"
     ]
    }
   ],
   "source": [
    "data = log_temp()\n",
    "\n",
    "labels = np.array(data.log_label())\n",
    "event_id = np.array(data.encode_event_ids())\n",
    "x_sequence , y_true = data.make_seq_list()\n",
    "\n",
    "print(labels.shape)\n",
    "print(event_id.shape)\n",
    "print(x_sequence.shape, y_true.shape)\n",
    "\n",
    "#====================================\n",
    "event_id_set = set(event_id)\n",
    "event_size = len(event_id_set)\n",
    "print(len(event_id_set)) #event_size\n"
   ]
  },
  {
   "cell_type": "code",
   "execution_count": 10,
   "metadata": {},
   "outputs": [
    {
     "name": "stdout",
     "output_type": "stream",
     "text": [
      "(17, 16)\n",
      "(1795, 10, 16)\n"
     ]
    }
   ],
   "source": [
    "embedding = Embedding(event_size, 16)\n",
    "print(embedding.embedding_matrix.shape)\n",
    "\n",
    "embedding_seq = [embedding.forward(seq) for seq in x_sequence]\n",
    "print((np.array(embedding_seq)).shape)"
   ]
  },
  {
   "cell_type": "markdown",
   "metadata": {},
   "source": [
    "## Get_feature_matrix"
   ]
  },
  {
   "cell_type": "markdown",
   "metadata": {},
   "source": [
    "- declare mymodel"
   ]
  },
  {
   "cell_type": "code",
   "execution_count": null,
   "metadata": {},
   "outputs": [],
   "source": [
    "input_size = embedding.embedding_matrix.shape[1]\n",
    "hidden_size = 32\n",
    "concat_size = input_size + hidden_size\n",
    "\n",
    "w_f = np.random.randn(hidden_size, concat_size)\n",
    "b_f = np.zeros((hidden_size, 1))\n",
    "w_i = np.random.randn(hidden_size, concat_size)\n",
    "b_i = np.zeros((hidden_size, 1))\n",
    "w_c = np.random.randn(hidden_size, concat_size)\n",
    "b_c = np.zeros((hidden_size, 1))\n",
    "w_o = np.random.randn(hidden_size, concat_size)\n",
    "b_o = np.zeros((hidden_size, 1))\n",
    "\n",
    "cell = LSTM_CELL(w_f, b_f, w_i, b_i, w_c, b_c, w_o, b_o)\n"
   ]
  },
  {
   "cell_type": "markdown",
   "metadata": {},
   "source": [
    "    (1) h_list is feature matrix"
   ]
  },
  {
   "cell_type": "code",
   "execution_count": null,
   "metadata": {},
   "outputs": [
    {
     "name": "stderr",
     "output_type": "stream",
     "text": [
      "/Users/taehayeong/Desktop/Git_workspace/Machine_learning/RNN_LSTM/mycode.py:47: RuntimeWarning: divide by zero encountered in matmul\n",
      "  value = (self.w_c @ self.concat_vector) + self.b_c\n",
      "/Users/taehayeong/Desktop/Git_workspace/Machine_learning/RNN_LSTM/mycode.py:47: RuntimeWarning: overflow encountered in matmul\n",
      "  value = (self.w_c @ self.concat_vector) + self.b_c\n",
      "/Users/taehayeong/Desktop/Git_workspace/Machine_learning/RNN_LSTM/mycode.py:47: RuntimeWarning: invalid value encountered in matmul\n",
      "  value = (self.w_c @ self.concat_vector) + self.b_c\n",
      "/Users/taehayeong/Desktop/Git_workspace/Machine_learning/RNN_LSTM/mycode.py:37: RuntimeWarning: divide by zero encountered in matmul\n",
      "  value = (self.w_f @ self.concat_vector) + self.b_f\n",
      "/Users/taehayeong/Desktop/Git_workspace/Machine_learning/RNN_LSTM/mycode.py:37: RuntimeWarning: overflow encountered in matmul\n",
      "  value = (self.w_f @ self.concat_vector) + self.b_f\n",
      "/Users/taehayeong/Desktop/Git_workspace/Machine_learning/RNN_LSTM/mycode.py:37: RuntimeWarning: invalid value encountered in matmul\n",
      "  value = (self.w_f @ self.concat_vector) + self.b_f\n",
      "/Users/taehayeong/Desktop/Git_workspace/Machine_learning/RNN_LSTM/mycode.py:42: RuntimeWarning: divide by zero encountered in matmul\n",
      "  value = (self.w_i @ self.concat_vector) + self.b_i\n",
      "/Users/taehayeong/Desktop/Git_workspace/Machine_learning/RNN_LSTM/mycode.py:42: RuntimeWarning: overflow encountered in matmul\n",
      "  value = (self.w_i @ self.concat_vector) + self.b_i\n",
      "/Users/taehayeong/Desktop/Git_workspace/Machine_learning/RNN_LSTM/mycode.py:42: RuntimeWarning: invalid value encountered in matmul\n",
      "  value = (self.w_i @ self.concat_vector) + self.b_i\n",
      "/Users/taehayeong/Desktop/Git_workspace/Machine_learning/RNN_LSTM/mycode.py:60: RuntimeWarning: divide by zero encountered in matmul\n",
      "  value = (self.w_o @ self.concat_vector) + self.b_o\n",
      "/Users/taehayeong/Desktop/Git_workspace/Machine_learning/RNN_LSTM/mycode.py:60: RuntimeWarning: overflow encountered in matmul\n",
      "  value = (self.w_o @ self.concat_vector) + self.b_o\n",
      "/Users/taehayeong/Desktop/Git_workspace/Machine_learning/RNN_LSTM/mycode.py:60: RuntimeWarning: invalid value encountered in matmul\n",
      "  value = (self.w_o @ self.concat_vector) + self.b_o\n"
     ]
    }
   ],
   "source": [
    "h_list = []\n",
    "\n",
    "for seq in embedding_seq:\n",
    "    h_prev = np.zeros((hidden_size, 1))\n",
    "    c_prev = np.zeros((hidden_size, 1))\n",
    "\n",
    "    for t in range(seq.shape[0]):\n",
    "        x_t = seq[t].reshape(-1, 1)\n",
    "        .get_concat_vector(h_prev, x_t)\n",
    "        h_t, c_t = model.forward(h_prev, x_t, c_prev)\n",
    "        h_prev, c_prev = h_t, c_t\n",
    "    \n",
    "    h_list.append(h_t.flatten())\n",
    "\n",
    "h_array = np.array(h_list)"
   ]
  },
  {
   "cell_type": "code",
   "execution_count": null,
   "metadata": {},
   "outputs": [
    {
     "name": "stdout",
     "output_type": "stream",
     "text": [
      "[0.03426871 0.03476146 0.04924609 0.03144366 0.03786191 0.09558153\n",
      " 0.06457723 0.04401661 0.04401061 0.16943074]\n"
     ]
    },
    {
     "name": "stderr",
     "output_type": "stream",
     "text": [
      "/Users/taehayeong/Desktop/Git_workspace/Machine_learning/RNN_LSTM/mycode.py:90: RuntimeWarning: divide by zero encountered in matmul\n",
      "  z = self.feature_matrix @ self.weight\n",
      "/Users/taehayeong/Desktop/Git_workspace/Machine_learning/RNN_LSTM/mycode.py:90: RuntimeWarning: overflow encountered in matmul\n",
      "  z = self.feature_matrix @ self.weight\n",
      "/Users/taehayeong/Desktop/Git_workspace/Machine_learning/RNN_LSTM/mycode.py:90: RuntimeWarning: invalid value encountered in matmul\n",
      "  z = self.feature_matrix @ self.weight\n",
      "/Users/taehayeong/Desktop/Git_workspace/Machine_learning/RNN_LSTM/mycode.py:107: RuntimeWarning: divide by zero encountered in matmul\n",
      "  grad = (self.feature_matrix.T @ (y_pred - y_true)) / m\n",
      "/Users/taehayeong/Desktop/Git_workspace/Machine_learning/RNN_LSTM/mycode.py:107: RuntimeWarning: overflow encountered in matmul\n",
      "  grad = (self.feature_matrix.T @ (y_pred - y_true)) / m\n",
      "/Users/taehayeong/Desktop/Git_workspace/Machine_learning/RNN_LSTM/mycode.py:107: RuntimeWarning: invalid value encountered in matmul\n",
      "  grad = (self.feature_matrix.T @ (y_pred - y_true)) / m\n"
     ]
    }
   ],
   "source": [
    "\n"
   ]
  }
 ],
 "metadata": {
  "kernelspec": {
   "display_name": "Python 3",
   "language": "python",
   "name": "python3"
  },
  "language_info": {
   "codemirror_mode": {
    "name": "ipython",
    "version": 3
   },
   "file_extension": ".py",
   "mimetype": "text/x-python",
   "name": "python",
   "nbconvert_exporter": "python",
   "pygments_lexer": "ipython3",
   "version": "3.13.2"
  }
 },
 "nbformat": 4,
 "nbformat_minor": 2
}
