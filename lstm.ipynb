{
 "cells": [
  {
   "cell_type": "markdown",
   "metadata": {},
   "source": [
    "### **import**"
   ]
  },
  {
   "cell_type": "code",
   "execution_count": null,
   "metadata": {},
   "outputs": [],
   "source": [
    "from log_vec import *\n",
    "from mycode import *"
   ]
  },
  {
   "cell_type": "markdown",
   "metadata": {},
   "source": [
    "### Data preprocessing"
   ]
  },
  {
   "cell_type": "code",
   "execution_count": null,
   "metadata": {},
   "outputs": [],
   "source": [
    "embedding = Embedding()\n",
    "model = MyModel()\n",
    "data = log_temp()"
   ]
  },
  {
   "cell_type": "code",
   "execution_count": null,
   "metadata": {},
   "outputs": [],
   "source": [
    "data.encode_event_ids()\n",
    "X_seq , y = data.make_seq_list()\n",
    "\n",
    "event_size = len(set(data.event_ids_encoded))\n",
    "embedding_dim = 16\n",
    "\n",
    "embedding = Embedding(event_size, embedding_dim)\n",
    "\n",
    "X_embed = np.array([embedding.forward(seq) for seq in X_seq])\n",
    "print(X_embed.shape) #1990, 10 ,16"
   ]
  },
  {
   "cell_type": "markdown",
   "metadata": {},
   "source": [
    "## Model Train"
   ]
  },
  {
   "cell_type": "markdown",
   "metadata": {},
   "source": [
    "- declare mymodel"
   ]
  },
  {
   "cell_type": "code",
   "execution_count": null,
   "metadata": {},
   "outputs": [],
   "source": [
    "input_size = 16\n",
    "hidden_size = 32\n",
    "concat_size = input_size + hidden_size\n",
    "\n",
    "w_f = np.random.randn(hidden_size, concat_size)\n",
    "b_f = np.zeros((hidden_size, 1))\n",
    "w_i = np.random.randn(hidden_size, concat_size)\n",
    "b_i = np.zeros((hidden_size, 1))\n",
    "w_c = np.random.randn(hidden_size, concat_size)\n",
    "b_c = np.zeros((hidden_size, 1))\n",
    "w_o = np.random.randn(hidden_size, concat_size)\n",
    "b_o = np.zeros((hidden_size, 1))\n",
    "\n",
    "model = MyModel(w_f, b_f, w_i, b_i, w_c, b_c, w_o, b_o)"
   ]
  },
  {
   "cell_type": "markdown",
   "metadata": {},
   "source": [
    "- model train\n",
    "\n",
    "    (1) h_list is feature matrix"
   ]
  },
  {
   "cell_type": "code",
   "execution_count": null,
   "metadata": {},
   "outputs": [],
   "source": [
    "h_list = []\n",
    "\n",
    "for seq in X_embed:\n",
    "    h_prev = np.zeros((hidden_size, 1))\n",
    "    c_prev = np.zeros((hidden_size, 1))\n",
    "\n",
    "    for t in range(seq.shape[0]):\n",
    "        x_t = seq[t].reshape(-1, 1)\n",
    "        model.get_concat_vector(h_prev, x_t)\n",
    "        h_t, c_t = model.forward(c_prev)\n",
    "        h_prev, c_prev = h_t, c_t\n",
    "    \n",
    "    h_list.append(h_t.flatten())\n",
    "\n",
    "h_array = np.array(h_list)"
   ]
  }
 ],
 "metadata": {
  "kernelspec": {
   "display_name": "Python 3",
   "language": "python",
   "name": "python3"
  },
  "language_info": {
   "name": "python",
   "version": "3.13.2"
  }
 },
 "nbformat": 4,
 "nbformat_minor": 2
}
