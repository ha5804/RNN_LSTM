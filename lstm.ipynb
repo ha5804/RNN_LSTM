{
 "cells": [
  {
   "cell_type": "markdown",
   "metadata": {},
   "source": [
    "## **import**"
   ]
  },
  {
   "cell_type": "code",
   "execution_count": 1,
   "metadata": {},
   "outputs": [],
   "source": [
    "from log_vec import *\n",
    "from mycode import *"
   ]
  },
  {
   "cell_type": "markdown",
   "metadata": {},
   "source": [
    "## Data preprocessing"
   ]
  },
  {
   "cell_type": "code",
   "execution_count": null,
   "metadata": {},
   "outputs": [
    {
     "name": "stdout",
     "output_type": "stream",
     "text": [
      "(2000,)\n",
      "(2000,)\n",
      "(1795, 10) (1795,)\n",
      "17\n"
     ]
    }
   ],
   "source": [
    "data = log_temp()\n",
    "\n",
    "labels = np.array(data.log_label())\n",
    "event_id = np.array(data.encode_event_ids())\n",
    "x_sequence , y_true = data.make_trian_seq_list()\n",
    "\n",
    "print(labels.shape)\n",
    "print(event_id.shape)\n",
    "print(x_sequence.shape, y_true.shape)\n",
    "\n",
    "#====================================\n",
    "event_id_set = set(event_id)\n",
    "event_size = len(event_id_set)\n",
    "print(len(event_id_set)) #event_size\n"
   ]
  },
  {
   "cell_type": "code",
   "execution_count": 3,
   "metadata": {},
   "outputs": [
    {
     "name": "stdout",
     "output_type": "stream",
     "text": [
      "(17, 16)\n",
      "(1795, 10, 16)\n"
     ]
    }
   ],
   "source": [
    "embedding = Embedding(event_size, 16)\n",
    "print(embedding.embedding_matrix.shape)\n",
    "\n",
    "embedding_seq = [embedding.forward(seq) for seq in x_sequence]\n",
    "print((np.array(embedding_seq)).shape)"
   ]
  },
  {
   "cell_type": "markdown",
   "metadata": {},
   "source": [
    "## Get_feature_matrix"
   ]
  },
  {
   "cell_type": "markdown",
   "metadata": {},
   "source": [
    "- declare mymodel"
   ]
  },
  {
   "cell_type": "code",
   "execution_count": 4,
   "metadata": {},
   "outputs": [],
   "source": [
    "input_size = embedding.embedding_matrix.shape[1]\n",
    "hidden_size = 32\n",
    "concat_size = input_size + hidden_size\n",
    "\n",
    "w_f = np.random.randn(hidden_size, concat_size)\n",
    "b_f = np.zeros((hidden_size, 1))\n",
    "w_i = np.random.randn(hidden_size, concat_size)\n",
    "b_i = np.zeros((hidden_size, 1))\n",
    "w_c = np.random.randn(hidden_size, concat_size)\n",
    "b_c = np.zeros((hidden_size, 1))\n",
    "w_o = np.random.randn(hidden_size, concat_size)\n",
    "b_o = np.zeros((hidden_size, 1))\n",
    "\n",
    "cell = LSTM_CELL(w_f, b_f, w_i, b_i, w_c, b_c, w_o, b_o)\n"
   ]
  },
  {
   "cell_type": "markdown",
   "metadata": {},
   "source": [
    "    (1) h_list is feature matrix"
   ]
  },
  {
   "cell_type": "code",
   "execution_count": 5,
   "metadata": {},
   "outputs": [
    {
     "name": "stdout",
     "output_type": "stream",
     "text": [
      "(1795, 32)\n"
     ]
    },
    {
     "name": "stderr",
     "output_type": "stream",
     "text": [
      "/Users/taehayeong/Desktop/Git_workspace/Machine_learning/RNN_LSTM/mycode.py:37: RuntimeWarning: divide by zero encountered in matmul\n",
      "  value = (self.w_c @ self.concat_vector) + self.b_c\n",
      "/Users/taehayeong/Desktop/Git_workspace/Machine_learning/RNN_LSTM/mycode.py:37: RuntimeWarning: overflow encountered in matmul\n",
      "  value = (self.w_c @ self.concat_vector) + self.b_c\n",
      "/Users/taehayeong/Desktop/Git_workspace/Machine_learning/RNN_LSTM/mycode.py:37: RuntimeWarning: invalid value encountered in matmul\n",
      "  value = (self.w_c @ self.concat_vector) + self.b_c\n",
      "/Users/taehayeong/Desktop/Git_workspace/Machine_learning/RNN_LSTM/mycode.py:27: RuntimeWarning: divide by zero encountered in matmul\n",
      "  value = (self.w_f @ self.concat_vector) + self.b_f\n",
      "/Users/taehayeong/Desktop/Git_workspace/Machine_learning/RNN_LSTM/mycode.py:27: RuntimeWarning: overflow encountered in matmul\n",
      "  value = (self.w_f @ self.concat_vector) + self.b_f\n",
      "/Users/taehayeong/Desktop/Git_workspace/Machine_learning/RNN_LSTM/mycode.py:27: RuntimeWarning: invalid value encountered in matmul\n",
      "  value = (self.w_f @ self.concat_vector) + self.b_f\n",
      "/Users/taehayeong/Desktop/Git_workspace/Machine_learning/RNN_LSTM/mycode.py:32: RuntimeWarning: divide by zero encountered in matmul\n",
      "  value = (self.w_i @ self.concat_vector) + self.b_i\n",
      "/Users/taehayeong/Desktop/Git_workspace/Machine_learning/RNN_LSTM/mycode.py:32: RuntimeWarning: overflow encountered in matmul\n",
      "  value = (self.w_i @ self.concat_vector) + self.b_i\n",
      "/Users/taehayeong/Desktop/Git_workspace/Machine_learning/RNN_LSTM/mycode.py:32: RuntimeWarning: invalid value encountered in matmul\n",
      "  value = (self.w_i @ self.concat_vector) + self.b_i\n",
      "/Users/taehayeong/Desktop/Git_workspace/Machine_learning/RNN_LSTM/mycode.py:50: RuntimeWarning: divide by zero encountered in matmul\n",
      "  value = (self.w_o @ self.concat_vector) + self.b_o\n",
      "/Users/taehayeong/Desktop/Git_workspace/Machine_learning/RNN_LSTM/mycode.py:50: RuntimeWarning: overflow encountered in matmul\n",
      "  value = (self.w_o @ self.concat_vector) + self.b_o\n",
      "/Users/taehayeong/Desktop/Git_workspace/Machine_learning/RNN_LSTM/mycode.py:50: RuntimeWarning: invalid value encountered in matmul\n",
      "  value = (self.w_o @ self.concat_vector) + self.b_o\n"
     ]
    }
   ],
   "source": [
    "h_list = []\n",
    "\n",
    "for seq in embedding_seq:\n",
    "    h_prev = np.zeros((hidden_size, 1))\n",
    "    c_prev = np.zeros((hidden_size, 1))\n",
    "\n",
    "    for t in range(seq.shape[0]):\n",
    "        x_t = seq[t].reshape(-1, 1)\n",
    "        cell.get_concat_vector(h_prev, x_t)\n",
    "        h_t, c_t = cell.forward(h_prev, x_t, c_prev)\n",
    "        h_prev, c_prev = h_t, c_t\n",
    "    \n",
    "    h_list.append(h_t.flatten())\n",
    "\n",
    "feature_matrix = np.array(h_list)\n",
    "print(feature_matrix.shape)"
   ]
  },
  {
   "cell_type": "markdown",
   "metadata": {},
   "source": [
    "# predict"
   ]
  },
  {
   "cell_type": "code",
   "execution_count": 7,
   "metadata": {},
   "outputs": [
    {
     "name": "stderr",
     "output_type": "stream",
     "text": [
      "/Users/taehayeong/Desktop/Git_workspace/Machine_learning/RNN_LSTM/autoencoder.py:18: RuntimeWarning: divide by zero encountered in matmul\n",
      "  z = self.W_enc @ x + self.b_enc\n",
      "/Users/taehayeong/Desktop/Git_workspace/Machine_learning/RNN_LSTM/autoencoder.py:18: RuntimeWarning: overflow encountered in matmul\n",
      "  z = self.W_enc @ x + self.b_enc\n",
      "/Users/taehayeong/Desktop/Git_workspace/Machine_learning/RNN_LSTM/autoencoder.py:18: RuntimeWarning: invalid value encountered in matmul\n",
      "  z = self.W_enc @ x + self.b_enc\n",
      "/Users/taehayeong/Desktop/Git_workspace/Machine_learning/RNN_LSTM/autoencoder.py:23: RuntimeWarning: divide by zero encountered in matmul\n",
      "  x_hat = self.W_dec @ z + self.b_dec\n",
      "/Users/taehayeong/Desktop/Git_workspace/Machine_learning/RNN_LSTM/autoencoder.py:23: RuntimeWarning: overflow encountered in matmul\n",
      "  x_hat = self.W_dec @ z + self.b_dec\n",
      "/Users/taehayeong/Desktop/Git_workspace/Machine_learning/RNN_LSTM/autoencoder.py:23: RuntimeWarning: invalid value encountered in matmul\n",
      "  x_hat = self.W_dec @ z + self.b_dec\n",
      "/Users/taehayeong/Desktop/Git_workspace/Machine_learning/RNN_LSTM/autoencoder.py:42: RuntimeWarning: divide by zero encountered in matmul\n",
      "  dz = self.W_dec.T @ d_loss * (1 - z ** 2)\n",
      "/Users/taehayeong/Desktop/Git_workspace/Machine_learning/RNN_LSTM/autoencoder.py:42: RuntimeWarning: overflow encountered in matmul\n",
      "  dz = self.W_dec.T @ d_loss * (1 - z ** 2)\n",
      "/Users/taehayeong/Desktop/Git_workspace/Machine_learning/RNN_LSTM/autoencoder.py:42: RuntimeWarning: invalid value encountered in matmul\n",
      "  dz = self.W_dec.T @ d_loss * (1 - z ** 2)\n"
     ]
    }
   ],
   "source": [
    "from autoencoder import Autoencoder\n",
    "\n",
    "autoencoder = Autoencoder(feature_matrix.shape[1] , hidden_size)\n",
    "autoencoder.train_data(feature_matrix)"
   ]
  },
  {
   "cell_type": "code",
   "execution_count": null,
   "metadata": {},
   "outputs": [],
   "source": []
  }
 ],
 "metadata": {
  "kernelspec": {
   "display_name": "Python 3",
   "language": "python",
   "name": "python3"
  },
  "language_info": {
   "codemirror_mode": {
    "name": "ipython",
    "version": 3
   },
   "file_extension": ".py",
   "mimetype": "text/x-python",
   "name": "python",
   "nbconvert_exporter": "python",
   "pygments_lexer": "ipython3",
   "version": "3.13.2"
  }
 },
 "nbformat": 4,
 "nbformat_minor": 2
}
